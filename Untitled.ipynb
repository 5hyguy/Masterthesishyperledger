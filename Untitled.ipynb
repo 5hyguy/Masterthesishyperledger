{
 "cells": [
  {
   "cell_type": "code",
   "execution_count": 1,
   "metadata": {},
   "outputs": [
    {
     "name": "stderr",
     "output_type": "stream",
     "text": [
      "Init client with profile=test/fixtures/network.json\n",
      "create org with name=orderer.example.com\n",
      "create org with name=org1.example.com\n",
      "create org with name=org2.example.com\n",
      "create ca with name=ca-org1\n",
      "create ca with name=ca-org2\n",
      "Import orderers = dict_keys(['orderer.example.com'])\n",
      "Import peers = dict_keys(['peer0.org1.example.com', 'peer1.org1.example.com', 'peer0.org2.example.com', 'peer1.org2.example.com'])\n"
     ]
    },
    {
     "name": "stdout",
     "output_type": "stream",
     "text": [
      "{'orderer.example.com': <hfc.fabric.organization.Organization object at 0x105e7c910>, 'org1.example.com': <hfc.fabric.organization.Organization object at 0x105e7cc50>, 'org2.example.com': <hfc.fabric.organization.Organization object at 0x105e7cf90>}\n",
      "{'peer0.org1.example.com': <hfc.fabric.peer.Peer object at 0x105e85290>, 'peer1.org1.example.com': <hfc.fabric.peer.Peer object at 0x105e85910>, 'peer0.org2.example.com': <hfc.fabric.peer.Peer object at 0x105e85f10>, 'peer1.org2.example.com': <hfc.fabric.peer.Peer object at 0x105e85f90>}\n",
      "{'orderer.example.com': <hfc.fabric.orderer.Orderer object at 0x105e7cb50>}\n",
      "{'ca-org1': <hfc.fabric.certificateAuthority.certificateAuthority object at 0x105e7ca90>, 'ca-org2': <hfc.fabric.certificateAuthority.certificateAuthority object at 0x105e7ce10>}\n"
     ]
    }
   ],
   "source": [
    "from hfc.fabric import Client\n",
    "\n",
    "cli = Client(net_profile=\"test/fixtures/network.json\")\n",
    "\n",
    "print(cli.organizations)  # orgs in the network\n",
    "print(cli.peers)  # peers in the network\n",
    "print(cli.orderers)  # orderers in the network\n",
    "print(cli.CAs)  # ca nodes in the network"
   ]
  },
  {
   "cell_type": "code",
   "execution_count": 2,
   "metadata": {},
   "outputs": [
    {
     "name": "stderr",
     "output_type": "stream",
     "text": [
      "Init client with profile=test/fixtures/network.json\n",
      "create org with name=orderer.example.com\n",
      "create org with name=org1.example.com\n",
      "create org with name=org2.example.com\n",
      "create ca with name=ca-org1\n",
      "create ca with name=ca-org2\n",
      "Import orderers = dict_keys(['orderer.example.com'])\n",
      "Import peers = dict_keys(['peer0.org1.example.com', 'peer1.org1.example.com', 'peer0.org2.example.com', 'peer1.org2.example.com'])\n"
     ]
    }
   ],
   "source": [
    "from hfc.fabric import Client\n",
    "\n",
    "cli = Client(net_profile=\"test/fixtures/network.json\")\n",
    "org1_admin = cli.get_user(org_name='org1.example.com', name='Admin') # get the admin user from local path"
   ]
  },
  {
   "cell_type": "code",
   "execution_count": 3,
   "metadata": {},
   "outputs": [
    {
     "ename": "ValueError",
     "evalue": "Registering failed with errors [{'code': 0, 'message': \"Registration of 'user1' failed: Identity 'user1' is already registered\"}]",
     "output_type": "error",
     "traceback": [
      "\u001b[0;31m---------------------------------------------------------------------------\u001b[0m",
      "\u001b[0;31mValueError\u001b[0m                                Traceback (most recent call last)",
      "\u001b[0;32m<ipython-input-3-7ee98725edfe>\u001b[0m in \u001b[0;36m<module>\u001b[0;34m\u001b[0m\n\u001b[1;32m      3\u001b[0m \u001b[0mcasvc\u001b[0m \u001b[0;34m=\u001b[0m \u001b[0mca_service\u001b[0m\u001b[0;34m(\u001b[0m\u001b[0mtarget\u001b[0m\u001b[0;34m=\u001b[0m\u001b[0;34m\"http://127.0.0.1:7054\"\u001b[0m\u001b[0;34m)\u001b[0m\u001b[0;34m\u001b[0m\u001b[0;34m\u001b[0m\u001b[0m\n\u001b[1;32m      4\u001b[0m \u001b[0madminEnrollment\u001b[0m \u001b[0;34m=\u001b[0m \u001b[0mcasvc\u001b[0m\u001b[0;34m.\u001b[0m\u001b[0menroll\u001b[0m\u001b[0;34m(\u001b[0m\u001b[0;34m\"admin\"\u001b[0m\u001b[0;34m,\u001b[0m \u001b[0;34m\"adminpw\"\u001b[0m\u001b[0;34m)\u001b[0m \u001b[0;31m# now local will have the admin enrollment\u001b[0m\u001b[0;34m\u001b[0m\u001b[0;34m\u001b[0m\u001b[0m\n\u001b[0;32m----> 5\u001b[0;31m \u001b[0msecret\u001b[0m \u001b[0;34m=\u001b[0m \u001b[0madminEnrollment\u001b[0m\u001b[0;34m.\u001b[0m\u001b[0mregister\u001b[0m\u001b[0;34m(\u001b[0m\u001b[0;34m\"user1\"\u001b[0m\u001b[0;34m)\u001b[0m \u001b[0;31m# register a user to ca\u001b[0m\u001b[0;34m\u001b[0m\u001b[0;34m\u001b[0m\u001b[0m\n\u001b[0m\u001b[1;32m      6\u001b[0m \u001b[0muser1Enrollment\u001b[0m \u001b[0;34m=\u001b[0m \u001b[0mcasvc\u001b[0m\u001b[0;34m.\u001b[0m\u001b[0menroll\u001b[0m\u001b[0;34m(\u001b[0m\u001b[0;34m\"user1\"\u001b[0m\u001b[0;34m,\u001b[0m \u001b[0msecret\u001b[0m\u001b[0;34m)\u001b[0m \u001b[0;31m# now local will have the user enrollment\u001b[0m\u001b[0;34m\u001b[0m\u001b[0;34m\u001b[0m\u001b[0m\n\u001b[1;32m      7\u001b[0m \u001b[0muser1ReEnrollment\u001b[0m \u001b[0;34m=\u001b[0m \u001b[0mcasvc\u001b[0m\u001b[0;34m.\u001b[0m\u001b[0mreenroll\u001b[0m\u001b[0;34m(\u001b[0m\u001b[0muser1Enrollment\u001b[0m\u001b[0;34m)\u001b[0m \u001b[0;31m# now local will have the user reenrolled object\u001b[0m\u001b[0;34m\u001b[0m\u001b[0;34m\u001b[0m\u001b[0m\n",
      "\u001b[0;32m~/Documents/hyper/fabric-sdk-py/hfc/fabric_ca/caservice.py\u001b[0m in \u001b[0;36mregister\u001b[0;34m(self, enrollmentID, enrollmentSecret, role, affiliation, maxEnrollments, attrs)\u001b[0m\n\u001b[1;32m    134\u001b[0m \u001b[0;34m\u001b[0m\u001b[0m\n\u001b[1;32m    135\u001b[0m         return self._service.register(enrollmentID, enrollmentSecret, role,\n\u001b[0;32m--> 136\u001b[0;31m                                       affiliation, maxEnrollments, attrs, self)\n\u001b[0m\u001b[1;32m    137\u001b[0m \u001b[0;34m\u001b[0m\u001b[0m\n\u001b[1;32m    138\u001b[0m     \u001b[0;31m# https://hyperledger-fabric-ca.readthedocs.io/en/latest/users-guide.html\u001b[0m\u001b[0;34m\u001b[0m\u001b[0;34m\u001b[0m\u001b[0;34m\u001b[0m\u001b[0m\n",
      "\u001b[0;32m~/Documents/hyper/fabric-sdk-py/hfc/fabric_ca/caservice.py\u001b[0m in \u001b[0;36mregister\u001b[0;34m(self, enrollmentID, enrollmentSecret, role, affiliation, maxEnrollments, attrs, registrar)\u001b[0m\n\u001b[1;32m    582\u001b[0m             \u001b[0mreq\u001b[0m\u001b[0;34m[\u001b[0m\u001b[0;34m'secret'\u001b[0m\u001b[0;34m]\u001b[0m \u001b[0;34m=\u001b[0m \u001b[0menrollmentSecret\u001b[0m\u001b[0;34m\u001b[0m\u001b[0;34m\u001b[0m\u001b[0m\n\u001b[1;32m    583\u001b[0m \u001b[0;34m\u001b[0m\u001b[0m\n\u001b[0;32m--> 584\u001b[0;31m         \u001b[0;32mreturn\u001b[0m \u001b[0mself\u001b[0m\u001b[0;34m.\u001b[0m\u001b[0m_ca_client\u001b[0m\u001b[0;34m.\u001b[0m\u001b[0mregister\u001b[0m\u001b[0;34m(\u001b[0m\u001b[0mreq\u001b[0m\u001b[0;34m,\u001b[0m \u001b[0mregistrar\u001b[0m\u001b[0;34m)\u001b[0m\u001b[0;34m\u001b[0m\u001b[0;34m\u001b[0m\u001b[0m\n\u001b[0m\u001b[1;32m    585\u001b[0m \u001b[0;34m\u001b[0m\u001b[0m\n\u001b[1;32m    586\u001b[0m     \u001b[0;32mdef\u001b[0m \u001b[0mrevoke\u001b[0m\u001b[0;34m(\u001b[0m\u001b[0mself\u001b[0m\u001b[0;34m,\u001b[0m \u001b[0menrollmentID\u001b[0m\u001b[0;34m,\u001b[0m \u001b[0maki\u001b[0m\u001b[0;34m,\u001b[0m \u001b[0mserial\u001b[0m\u001b[0;34m,\u001b[0m \u001b[0mreason\u001b[0m\u001b[0;34m,\u001b[0m \u001b[0mgencrl\u001b[0m\u001b[0;34m,\u001b[0m \u001b[0mregistrar\u001b[0m\u001b[0;34m)\u001b[0m\u001b[0;34m:\u001b[0m\u001b[0;34m\u001b[0m\u001b[0;34m\u001b[0m\u001b[0m\n",
      "\u001b[0;32m~/Documents/hyper/fabric-sdk-py/hfc/fabric_ca/caservice.py\u001b[0m in \u001b[0;36mregister\u001b[0;34m(self, req, registrar)\u001b[0m\n\u001b[1;32m    356\u001b[0m         \u001b[0;32melse\u001b[0m\u001b[0;34m:\u001b[0m\u001b[0;34m\u001b[0m\u001b[0;34m\u001b[0m\u001b[0m\n\u001b[1;32m    357\u001b[0m             raise ValueError(\"Registering failed with errors {0}\"\n\u001b[0;32m--> 358\u001b[0;31m                              .format(res['errors']))\n\u001b[0m\u001b[1;32m    359\u001b[0m \u001b[0;34m\u001b[0m\u001b[0m\n\u001b[1;32m    360\u001b[0m     \u001b[0;32mdef\u001b[0m \u001b[0mreenroll\u001b[0m\u001b[0;34m(\u001b[0m\u001b[0mself\u001b[0m\u001b[0;34m,\u001b[0m \u001b[0mreq\u001b[0m\u001b[0;34m,\u001b[0m \u001b[0mregistrar\u001b[0m\u001b[0;34m)\u001b[0m\u001b[0;34m:\u001b[0m\u001b[0;34m\u001b[0m\u001b[0;34m\u001b[0m\u001b[0m\n",
      "\u001b[0;31mValueError\u001b[0m: Registering failed with errors [{'code': 0, 'message': \"Registration of 'user1' failed: Identity 'user1' is already registered\"}]"
     ]
    }
   ],
   "source": [
    "from hfc.fabric_ca.caservice import ca_service\n",
    "\n",
    "casvc = ca_service(target=\"http://127.0.0.1:7054\")\n",
    "adminEnrollment = casvc.enroll(\"admin\", \"adminpw\") # now local will have the admin enrollment\n",
    "secret = adminEnrollment.register(\"user1\") # register a user to ca\n",
    "user1Enrollment = casvc.enroll(\"user1\", secret) # now local will have the user enrollment\n",
    "user1ReEnrollment = casvc.reenroll(user1Enrollment) # now local will have the user reenrolled object\n",
    "RevokedCerts, CRL = adminEnrollment.revoke(\"user1\") # revoke the user if you need"
   ]
  },
  {
   "cell_type": "code",
   "execution_count": 4,
   "metadata": {},
   "outputs": [
    {
     "name": "stderr",
     "output_type": "stream",
     "text": [
      "Init client with profile=test/fixtures/network.json\n",
      "create org with name=orderer.example.com\n",
      "create org with name=org1.example.com\n",
      "create org with name=org2.example.com\n",
      "create ca with name=ca-org1\n",
      "create ca with name=ca-org2\n",
      "Import orderers = dict_keys(['orderer.example.com'])\n",
      "Import peers = dict_keys(['peer0.org1.example.com', 'peer1.org1.example.com', 'peer0.org2.example.com', 'peer1.org2.example.com'])\n",
      "FABRIC_CFG_PATH set to /Users/famakinolawole/Documents/hyper/fabric-sdk-py/test/fixtures/e2e_cli/\n",
      "Configtx file successfully created in current             directory\n",
      "{'tx_id': '0e3a99dd4798b22ae80c8ed54c6fca179a2d61ea4a2d6d1d097d95431a87fd03', 'nonce': b\"\\x93s\\x9b\\xf2\\xebu\\xba'\\xe2D\\x81\\x08\\xf7\\xbd\\xb6\\xa9<\\x19\\x00\\x86I\\xb9\\x82Y\", 'signatures': [b'\\n\\xd3\\x06\\n\\xb6\\x06\\n\\x07Org1MSP\\x12\\xaa\\x06-----BEGIN CERTIFICATE-----\\nMIICKjCCAdCgAwIBAgIQEn3uLYlL4sXXQBS1/k8u7zAKBggqhkjOPQQDAjBzMQsw\\nCQYDVQQGEwJVUzETMBEGA1UECBMKQ2FsaWZvcm5pYTEWMBQGA1UEBxMNU2FuIEZy\\nYW5jaXNjbzEZMBcGA1UEChMQb3JnMS5leGFtcGxlLmNvbTEcMBoGA1UEAxMTY2Eu\\nb3JnMS5leGFtcGxlLmNvbTAeFw0xODEwMTkwMzQ4MDBaFw0yODEwMTYwMzQ4MDBa\\nMGwxCzAJBgNVBAYTAlVTMRMwEQYDVQQIEwpDYWxpZm9ybmlhMRYwFAYDVQQHEw1T\\nYW4gRnJhbmNpc2NvMQ8wDQYDVQQLEwZjbGllbnQxHzAdBgNVBAMMFkFkbWluQG9y\\nZzEuZXhhbXBsZS5jb20wWTATBgcqhkjOPQIBBggqhkjOPQMBBwNCAAR2zFPDBYIy\\njZSXaB15ILW9MRUYkSiksD6Io+VBbsJex2S7Do7lJhYfpyg5Z1LEHLCQgHH/VJ1F\\nMZmNHgIIHqWPo00wSzAOBgNVHQ8BAf8EBAMCB4AwDAYDVR0TAQH/BAIwADArBgNV\\nHSMEJDAigCBrrGAVZjePzZuDxouWmQ1BrbUVMmQN6w6E+DzsHViX0jAKBggqhkjO\\nPQQDAgNIADBFAiEA0FGz0YuvjPaKGy0h7+AUGJ+02O78VIIJx3wX1SL0ODMCIHSN\\nDX1FwttwXOkNiLBOi9sz04bOXz6ALO0xXtZCE4pi\\n-----END CERTIFICATE-----\\n\\x12\\x18\\x93s\\x9b\\xf2\\xebu\\xba\\'\\xe2D\\x81\\x08\\xf7\\xbd\\xb6\\xa9<\\x19\\x00\\x86I\\xb9\\x82Y\\x12G0E\\x02!\\x00\\x8a\\x16\\x19\\xcb\\xe6\"\\xf2\\xf2\\xb1$\"\\xbdQC\\x1d$5\\xb6)\\x98\\x1f\\x9e\\tCL\\x9dQ\\x1d\\xacb\\x06q\\x02 >\\x82A2\\x10\\xc0|=\\xac\\xa7\\xe07\\\\\\xc5\\xdf\\xcdv|P\\xfe\\xcc:;\\xb7[\\xaai\\xb6\\n-\\x90}'], 'config': b'\\n\\x14businesschanneltoday\\x12;\\x12)\\n\\x0bApplication\\x12\\x1a\\x12\\x0b\\n\\x07Org2MSP\\x12\\x00\\x12\\x0b\\n\\x07Org1MSP\\x12\\x00\\x1a\\x0e\\n\\nConsortium\\x12\\x00\\x1a\\xed\\x01\\x12\\xc6\\x01\\n\\x0bApplication\\x12\\xb6\\x01\\x08\\x01\\x12\\x0b\\n\\x07Org1MSP\\x12\\x00\\x12\\x0b\\n\\x07Org2MSP\\x12\\x00\\x1a$\\n\\x0cCapabilities\\x12\\x14\\x12\\n\\n\\x08\\n\\x04V1_3\\x12\\x00\\x1a\\x06Admins\"\"\\n\\x07Readers\\x12\\x17\\x12\\r\\x08\\x03\\x12\\t\\n\\x07Readers\\x1a\\x06Admins\"\"\\n\\x07Writers\\x12\\x17\\x12\\r\\x08\\x03\\x12\\t\\n\\x07Writers\\x1a\\x06Admins\"\"\\n\\x06Admins\\x12\\x18\\x12\\x0e\\x08\\x03\\x12\\n\\n\\x06Admins\\x10\\x02\\x1a\\x06Admins*\\x06Admins\\x1a\"\\n\\nConsortium\\x12\\x14\\x12\\x12\\n\\x10SampleConsortium', 'orderer': <hfc.fabric.orderer.Orderer object at 0x105f843d0>, 'channel_name': 'businesschanneltoday'}\n",
      "_create_or_update_channel - start\n",
      "_create_or_update_channel - have config_update\n",
      "New channel with name = businesschanneltoday\n",
      "get genesis block successfully, block=data_hash: \"W%\\263\\203\\274\\010\\205\\202\\253Xg[m\\036\\255D)\\237\\212f\\251o@\\352\\252\\014\\324\\340\\010\\200\\000\\'\"\n",
      "\n"
     ]
    },
    {
     "name": "stdout",
     "output_type": "stream",
     "text": [
      "True\n"
     ]
    },
    {
     "name": "stderr",
     "output_type": "stream",
     "text": [
      "get genesis block successfully, block=data_hash: \"W%\\263\\203\\274\\010\\205\\202\\253Xg[m\\036\\255D)\\237\\212f\\251o@\\352\\252\\014\\324\\340\\010\\200\\000\\'\"\n",
      "\n"
     ]
    },
    {
     "name": "stdout",
     "output_type": "stream",
     "text": [
      "True\n",
      "True\n"
     ]
    }
   ],
   "source": [
    "import asyncio\n",
    "import nest_asyncio\n",
    "nest_asyncio.apply()\n",
    "from hfc.fabric import Client\n",
    "\n",
    "loop = asyncio.get_event_loop()\n",
    "\n",
    "cli = Client(net_profile=\"test/fixtures/network.json\")\n",
    "org1_admin = cli.get_user(org_name='org1.example.com', name='Admin')\n",
    "\n",
    "# Create a New Channel, the response should be true if succeed\n",
    "response = loop.run_until_complete(cli.channel_create(\n",
    "            orderer='orderer.example.com',\n",
    "            channel_name='businesschanneltoday',\n",
    "            requestor=org1_admin,\n",
    "            config_yaml='test/fixtures/e2e_cli/',\n",
    "            channel_profile='TwoOrgsChannel'\n",
    "            ))\n",
    "print(response == True)\n",
    "\n",
    "# Join Peers into Channel, the response should be true if succeed\n",
    "orderer_admin = cli.get_user(org_name='orderer.example.com', name='Admin')\n",
    "responses = loop.run_until_complete(cli.channel_join(\n",
    "               requestor=org1_admin,\n",
    "               channel_name='businesschanneltoday',\n",
    "               peers=['peer0.org1.example.com',\n",
    "                      'peer1.org1.example.com'],\n",
    "               orderer='orderer.example.com'\n",
    "               ))\n",
    "print(len(responses) == 2)\n",
    "\n",
    "\n",
    "# Join Peers from a different MSP into Channel\n",
    "org2_admin = cli.get_user(org_name='org2.example.com', name='Admin')\n",
    "\n",
    "# For operations on peers from org2.example.com, org2_admin is required as requestor\n",
    "responses = loop.run_until_complete(cli.channel_join(\n",
    "               requestor=org2_admin,\n",
    "               channel_name='businesschanneltoday',\n",
    "               peers=['peer0.org2.example.com',\n",
    "                      'peer1.org2.example.com'],\n",
    "               orderer='orderer.example.com'\n",
    "               ))\n",
    "print(len(responses) == 2)"
   ]
  },
  {
   "cell_type": "code",
   "execution_count": 5,
   "metadata": {},
   "outputs": [
    {
     "name": "stderr",
     "output_type": "stream",
     "text": [
      "Init client with profile=test/fixtures/network.json\n",
      "create org with name=orderer.example.com\n",
      "create org with name=org1.example.com\n",
      "create org with name=org2.example.com\n",
      "create ca with name=ca-org1\n",
      "create ca with name=ca-org2\n",
      "Import orderers = dict_keys(['orderer.example.com'])\n",
      "Import peers = dict_keys(['peer0.org1.example.com', 'peer1.org1.example.com', 'peer0.org2.example.com', 'peer1.org2.example.com'])\n",
      "New channel with name = businesschanneltoday\n"
     ]
    },
    {
     "ename": "RuntimeError",
     "evalue": "version already exists for chaincode with name 'example_cc'",
     "output_type": "error",
     "traceback": [
      "\u001b[0;31m---------------------------------------------------------------------------\u001b[0m",
      "\u001b[0;31mRuntimeError\u001b[0m                              Traceback (most recent call last)",
      "\u001b[0;32m<ipython-input-5-da2bd63f147f>\u001b[0m in \u001b[0;36m<module>\u001b[0;34m\u001b[0m\n\u001b[1;32m    105\u001b[0m                \u001b[0mcollections_config\u001b[0m\u001b[0;34m=\u001b[0m\u001b[0;32mNone\u001b[0m\u001b[0;34m,\u001b[0m \u001b[0;31m# optional, for private data policy\u001b[0m\u001b[0;34m\u001b[0m\u001b[0;34m\u001b[0m\u001b[0m\n\u001b[1;32m    106\u001b[0m                \u001b[0mtransient_map\u001b[0m\u001b[0;34m=\u001b[0m\u001b[0;32mNone\u001b[0m\u001b[0;34m,\u001b[0m \u001b[0;31m# optional, for private data\u001b[0m\u001b[0;34m\u001b[0m\u001b[0;34m\u001b[0m\u001b[0m\n\u001b[0;32m--> 107\u001b[0;31m                \u001b[0mwait_for_event\u001b[0m\u001b[0;34m=\u001b[0m\u001b[0;32mTrue\u001b[0m \u001b[0;31m# optional, for being sure chaincode is upgraded\u001b[0m\u001b[0;34m\u001b[0m\u001b[0;34m\u001b[0m\u001b[0m\n\u001b[0m\u001b[1;32m    108\u001b[0m                )) \n",
      "\u001b[0;32m/opt/anaconda3/lib/python3.7/site-packages/nest_asyncio.py\u001b[0m in \u001b[0;36mrun_until_complete\u001b[0;34m(self, future)\u001b[0m\n\u001b[1;32m     87\u001b[0m                 raise RuntimeError(\n\u001b[1;32m     88\u001b[0m                     'Event loop stopped before Future completed.')\n\u001b[0;32m---> 89\u001b[0;31m             \u001b[0;32mreturn\u001b[0m \u001b[0mf\u001b[0m\u001b[0;34m.\u001b[0m\u001b[0mresult\u001b[0m\u001b[0;34m(\u001b[0m\u001b[0;34m)\u001b[0m\u001b[0;34m\u001b[0m\u001b[0;34m\u001b[0m\u001b[0m\n\u001b[0m\u001b[1;32m     90\u001b[0m \u001b[0;34m\u001b[0m\u001b[0m\n\u001b[1;32m     91\u001b[0m     \u001b[0;32mdef\u001b[0m \u001b[0m_run_once\u001b[0m\u001b[0;34m(\u001b[0m\u001b[0mself\u001b[0m\u001b[0;34m)\u001b[0m\u001b[0;34m:\u001b[0m\u001b[0;34m\u001b[0m\u001b[0;34m\u001b[0m\u001b[0m\n",
      "\u001b[0;32m/opt/anaconda3/lib/python3.7/asyncio/futures.py\u001b[0m in \u001b[0;36mresult\u001b[0;34m(self)\u001b[0m\n\u001b[1;32m    179\u001b[0m         \u001b[0mself\u001b[0m\u001b[0;34m.\u001b[0m\u001b[0m__log_traceback\u001b[0m \u001b[0;34m=\u001b[0m \u001b[0;32mFalse\u001b[0m\u001b[0;34m\u001b[0m\u001b[0;34m\u001b[0m\u001b[0m\n\u001b[1;32m    180\u001b[0m         \u001b[0;32mif\u001b[0m \u001b[0mself\u001b[0m\u001b[0;34m.\u001b[0m\u001b[0m_exception\u001b[0m \u001b[0;32mis\u001b[0m \u001b[0;32mnot\u001b[0m \u001b[0;32mNone\u001b[0m\u001b[0;34m:\u001b[0m\u001b[0;34m\u001b[0m\u001b[0;34m\u001b[0m\u001b[0m\n\u001b[0;32m--> 181\u001b[0;31m             \u001b[0;32mraise\u001b[0m \u001b[0mself\u001b[0m\u001b[0;34m.\u001b[0m\u001b[0m_exception\u001b[0m\u001b[0;34m\u001b[0m\u001b[0;34m\u001b[0m\u001b[0m\n\u001b[0m\u001b[1;32m    182\u001b[0m         \u001b[0;32mreturn\u001b[0m \u001b[0mself\u001b[0m\u001b[0;34m.\u001b[0m\u001b[0m_result\u001b[0m\u001b[0;34m\u001b[0m\u001b[0;34m\u001b[0m\u001b[0m\n\u001b[1;32m    183\u001b[0m \u001b[0;34m\u001b[0m\u001b[0m\n",
      "\u001b[0;32m/opt/anaconda3/lib/python3.7/asyncio/tasks.py\u001b[0m in \u001b[0;36m__step\u001b[0;34m(***failed resolving arguments***)\u001b[0m\n\u001b[1;32m    247\u001b[0m                 \u001b[0;31m# We use the `send` method directly, because coroutines\u001b[0m\u001b[0;34m\u001b[0m\u001b[0;34m\u001b[0m\u001b[0;34m\u001b[0m\u001b[0m\n\u001b[1;32m    248\u001b[0m                 \u001b[0;31m# don't have `__iter__` and `__next__` methods.\u001b[0m\u001b[0;34m\u001b[0m\u001b[0;34m\u001b[0m\u001b[0;34m\u001b[0m\u001b[0m\n\u001b[0;32m--> 249\u001b[0;31m                 \u001b[0mresult\u001b[0m \u001b[0;34m=\u001b[0m \u001b[0mcoro\u001b[0m\u001b[0;34m.\u001b[0m\u001b[0msend\u001b[0m\u001b[0;34m(\u001b[0m\u001b[0;32mNone\u001b[0m\u001b[0;34m)\u001b[0m\u001b[0;34m\u001b[0m\u001b[0;34m\u001b[0m\u001b[0m\n\u001b[0m\u001b[1;32m    250\u001b[0m             \u001b[0;32melse\u001b[0m\u001b[0;34m:\u001b[0m\u001b[0;34m\u001b[0m\u001b[0;34m\u001b[0m\u001b[0m\n\u001b[1;32m    251\u001b[0m                 \u001b[0mresult\u001b[0m \u001b[0;34m=\u001b[0m \u001b[0mcoro\u001b[0m\u001b[0;34m.\u001b[0m\u001b[0mthrow\u001b[0m\u001b[0;34m(\u001b[0m\u001b[0mexc\u001b[0m\u001b[0;34m)\u001b[0m\u001b[0;34m\u001b[0m\u001b[0;34m\u001b[0m\u001b[0m\n",
      "\u001b[0;32m~/Documents/hyper/fabric-sdk-py/hfc/fabric/client.py\u001b[0m in \u001b[0;36mchaincode_upgrade\u001b[0;34m(self, requestor, channel_name, peers, cc_name, cc_version, cc_endorsement_policy, fcn, args, transient_map, collections_config, wait_for_event, wait_for_event_timeout, cc_type)\u001b[0m\n\u001b[1;32m   1258\u001b[0m                                        \u001b[0mwait_for_event\u001b[0m\u001b[0;34m=\u001b[0m\u001b[0mwait_for_event\u001b[0m\u001b[0;34m,\u001b[0m\u001b[0;34m\u001b[0m\u001b[0;34m\u001b[0m\u001b[0m\n\u001b[1;32m   1259\u001b[0m                                        \u001b[0mwait_for_event_timeout\u001b[0m\u001b[0;34m=\u001b[0m\u001b[0mwait_for_event_timeout\u001b[0m\u001b[0;34m,\u001b[0m\u001b[0;34m\u001b[0m\u001b[0;34m\u001b[0m\u001b[0m\n\u001b[0;32m-> 1260\u001b[0;31m                                        cc_type=cc_type)\n\u001b[0m\u001b[1;32m   1261\u001b[0m \u001b[0;34m\u001b[0m\u001b[0m\n\u001b[1;32m   1262\u001b[0m     \u001b[0;31m# this method is here only for backwards compatibility\u001b[0m\u001b[0;34m\u001b[0m\u001b[0;34m\u001b[0m\u001b[0;34m\u001b[0m\u001b[0m\n",
      "\u001b[0;32m~/Documents/hyper/fabric-sdk-py/hfc/fabric/chaincode.py\u001b[0m in \u001b[0;36mupgrade\u001b[0;34m(self, requestor, channel_name, peers, cc_version, cc_endorsement_policy, fcn, args, transient_map, collections_config, wait_for_event, wait_for_event_timeout, cc_type)\u001b[0m\n\u001b[1;32m    174\u001b[0m                                                   \u001b[0mwait_for_event\u001b[0m\u001b[0;34m=\u001b[0m\u001b[0mwait_for_event\u001b[0m\u001b[0;34m,\u001b[0m\u001b[0;34m\u001b[0m\u001b[0;34m\u001b[0m\u001b[0m\n\u001b[1;32m    175\u001b[0m                                                   \u001b[0mwait_for_event_timeout\u001b[0m\u001b[0;34m=\u001b[0m\u001b[0mwait_for_event_timeout\u001b[0m\u001b[0;34m,\u001b[0m\u001b[0;34m\u001b[0m\u001b[0;34m\u001b[0m\u001b[0m\n\u001b[0;32m--> 176\u001b[0;31m                                                   cc_type=cc_type)\n\u001b[0m\u001b[1;32m    177\u001b[0m \u001b[0;34m\u001b[0m\u001b[0m\n\u001b[1;32m    178\u001b[0m     async def _instantiate_or_upgrade(self, operation_name, requestor, channel_name, peers, cc_version,\n",
      "\u001b[0;32m~/Documents/hyper/fabric-sdk-py/hfc/fabric/chaincode.py\u001b[0m in \u001b[0;36m_instantiate_or_upgrade\u001b[0;34m(self, operation_name, requestor, channel_name, peers, cc_version, cc_endorsement_policy, fcn, args, transient_map, collections_config, wait_for_event, wait_for_event_timeout, cc_type)\u001b[0m\n\u001b[1;32m    235\u001b[0m         \u001b[0;31m# if proposal was not good, return\u001b[0m\u001b[0;34m\u001b[0m\u001b[0;34m\u001b[0m\u001b[0;34m\u001b[0m\u001b[0m\n\u001b[1;32m    236\u001b[0m         \u001b[0;32mif\u001b[0m \u001b[0;32mnot\u001b[0m \u001b[0mall\u001b[0m\u001b[0;34m(\u001b[0m\u001b[0;34m[\u001b[0m\u001b[0mx\u001b[0m\u001b[0;34m.\u001b[0m\u001b[0mresponse\u001b[0m\u001b[0;34m.\u001b[0m\u001b[0mstatus\u001b[0m \u001b[0;34m==\u001b[0m \u001b[0mSUCCESS_STATUS\u001b[0m \u001b[0;32mfor\u001b[0m \u001b[0mx\u001b[0m \u001b[0;32min\u001b[0m \u001b[0mres\u001b[0m\u001b[0;34m]\u001b[0m\u001b[0;34m)\u001b[0m\u001b[0;34m:\u001b[0m\u001b[0;34m\u001b[0m\u001b[0;34m\u001b[0m\u001b[0m\n\u001b[0;32m--> 237\u001b[0;31m             \u001b[0;32mraise\u001b[0m \u001b[0mRuntimeError\u001b[0m\u001b[0;34m(\u001b[0m\u001b[0mres\u001b[0m\u001b[0;34m[\u001b[0m\u001b[0;36m0\u001b[0m\u001b[0;34m]\u001b[0m\u001b[0;34m.\u001b[0m\u001b[0mresponse\u001b[0m\u001b[0;34m.\u001b[0m\u001b[0mmessage\u001b[0m\u001b[0;34m)\u001b[0m\u001b[0;34m\u001b[0m\u001b[0;34m\u001b[0m\u001b[0m\n\u001b[0m\u001b[1;32m    238\u001b[0m \u001b[0;34m\u001b[0m\u001b[0m\n\u001b[1;32m    239\u001b[0m         \u001b[0mtran_req\u001b[0m \u001b[0;34m=\u001b[0m \u001b[0mutils\u001b[0m\u001b[0;34m.\u001b[0m\u001b[0mbuild_tx_req\u001b[0m\u001b[0;34m(\u001b[0m\u001b[0;34m(\u001b[0m\u001b[0mres\u001b[0m\u001b[0;34m,\u001b[0m \u001b[0mproposal\u001b[0m\u001b[0;34m,\u001b[0m \u001b[0mheader\u001b[0m\u001b[0;34m)\u001b[0m\u001b[0;34m)\u001b[0m\u001b[0;34m\u001b[0m\u001b[0;34m\u001b[0m\u001b[0m\n",
      "\u001b[0;31mRuntimeError\u001b[0m: version already exists for chaincode with name 'example_cc'"
     ]
    }
   ],
   "source": [
    "import asyncio\n",
    "from hfc.fabric import Client\n",
    "\n",
    "loop = asyncio.get_event_loop()\n",
    "\n",
    "cli = Client(net_profile=\"test/fixtures/network.json\")\n",
    "org1_admin = cli.get_user('org1.example.com', 'Admin')\n",
    "\n",
    "# Make the client know there is a channel in the network\n",
    "cli.new_channel('businesschanneltoday')\n",
    "\n",
    "# Install Example Chaincode to Peers\n",
    "# GOPATH setting is only needed to use the example chaincode inside sdk\n",
    "import os\n",
    "gopath_bak = os.environ.get('GOPATH', '')\n",
    "gopath = os.path.normpath(os.path.join(\n",
    "                      os.path.dirname(os.path.realpath('__file__')),\n",
    "                      'test/fixtures/chaincode'\n",
    "                     ))\n",
    "os.environ['GOPATH'] = os.path.abspath(gopath)\n",
    "\n",
    "# The response should be true if succeed\n",
    "responses = loop.run_until_complete(cli.chaincode_install(\n",
    "               requestor=org1_admin,\n",
    "               peers=['peer0.org1.example.com',\n",
    "                      'peer1.org1.example.com'],\n",
    "               cc_path='github.com/example_cc',\n",
    "               cc_name='example_cc',\n",
    "               cc_version='v1.0'\n",
    "               ))\n",
    "\n",
    "# Instantiate Chaincode in Channel, the response should be true if succeed\n",
    "args = ['a', '200', 'b', '300']\n",
    "\n",
    "# policy, see https://hyperledger-fabric.readthedocs.io/en/release-1.4/endorsement-policies.html\n",
    "policy = {\n",
    "    'identities': [\n",
    "        {'role': {'name': 'member', 'mspId': 'Org1MSP'}},\n",
    "    ],\n",
    "    'policy': {\n",
    "        '1-of': [\n",
    "            {'signed-by': 0},\n",
    "        ]\n",
    "    }\n",
    "}\n",
    "response = loop.run_until_complete(cli.chaincode_instantiate(\n",
    "               requestor=org1_admin,\n",
    "               channel_name='businesschanneltoday',\n",
    "               peers=['peer0.org1.example.com'],\n",
    "               args=args,\n",
    "               cc_name='example_cc',\n",
    "               cc_version='v1.0',\n",
    "               cc_endorsement_policy=policy, # optional, but recommended\n",
    "               collections_config=None, # optional, for private data policy\n",
    "               transient_map=None, # optional, for private data\n",
    "               wait_for_event=True # optional, for being sure chaincode is instantiated\n",
    "               ))\n",
    "\n",
    "# Invoke a chaincode\n",
    "args = ['a', 'b', '100']\n",
    "# The response should be true if succeed\n",
    "response = loop.run_until_complete(cli.chaincode_invoke(\n",
    "               requestor=org1_admin,\n",
    "               channel_name='businesschanneltoday',\n",
    "               peers=['peer0.org1.example.com'],\n",
    "               args=args,\n",
    "               cc_name='example_cc',\n",
    "               transient_map=None, # optional, for private data\n",
    "               wait_for_event=True, # for being sure chaincode invocation has been commited in the ledger, default is on tx event\n",
    "               #cc_pattern='^invoked*' # if you want to wait for chaincode event and you have a `stub.SetEvent(\"invoked\", value)` in your chaincode\n",
    "               ))\n",
    "\n",
    "# Query a chaincode\n",
    "args = ['b']\n",
    "# The response should be true if succeed\n",
    "response = loop.run_until_complete(cli.chaincode_query(\n",
    "               requestor=org1_admin,\n",
    "               channel_name='businesschanneltoday',\n",
    "               peers=['peer0.org1.example.com'],\n",
    "               args=args,\n",
    "               cc_name='example_cc'\n",
    "               ))\n",
    "\n",
    "# Upgrade a chaincode\n",
    "# policy, see https://hyperledger-fabric.readthedocs.io/en/release-1.4/endorsement-policies.html\n",
    "policy = {\n",
    "    'identities': [\n",
    "        {'role': {'name': 'member', 'mspId': 'Org1MSP'}},\n",
    "        {'role': {'name': 'admin', 'mspId': 'Org1MSP'}},\n",
    "    ],\n",
    "    'policy': {\n",
    "        '1-of': [\n",
    "            {'signed-by': 0}, {'signed-by': 1},\n",
    "        ]\n",
    "    }\n",
    "}\n",
    "response = loop.run_until_complete(cli.chaincode_upgrade(\n",
    "               requestor=org1_admin,\n",
    "               channel_name='businesschanneltoday',\n",
    "               peers=['peer0.org1.example.com'],\n",
    "               args=args,\n",
    "               cc_name='example_cc',\n",
    "               cc_version='v1.0',\n",
    "               cc_endorsement_policy=policy, # optional, but recommended\n",
    "               collections_config=None, # optional, for private data policy\n",
    "               transient_map=None, # optional, for private data\n",
    "               wait_for_event=True # optional, for being sure chaincode is upgraded\n",
    "               )) "
   ]
  },
  {
   "cell_type": "code",
   "execution_count": null,
   "metadata": {},
   "outputs": [],
   "source": []
  }
 ],
 "metadata": {
  "kernelspec": {
   "display_name": "Python 3",
   "language": "python",
   "name": "python3"
  },
  "language_info": {
   "codemirror_mode": {
    "name": "ipython",
    "version": 3
   },
   "file_extension": ".py",
   "mimetype": "text/x-python",
   "name": "python",
   "nbconvert_exporter": "python",
   "pygments_lexer": "ipython3",
   "version": "3.7.6"
  }
 },
 "nbformat": 4,
 "nbformat_minor": 4
}
