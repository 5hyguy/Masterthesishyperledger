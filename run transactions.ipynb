{
 "cells": [
  {
   "cell_type": "code",
   "execution_count": 1,
   "metadata": {},
   "outputs": [
    {
     "name": "stdout",
     "output_type": "stream",
     "text": [
      "{'a': 27, 'b': 12, 'user': 'Olawole Taiwo Famakin', 'status': 'Bachelors Degree', 'avatar': 'https://wolexx.com/wp-content/uploads/2020/08/IMG_20200830_161555_763-scaled.jpg'}\n",
      "27\n"
     ]
    }
   ],
   "source": [
    "import requests\n",
    "headers = {\n",
    "    'Accept-Encoding': 'gzip, deflate, sdch',\n",
    "    'Accept-Language': 'en-US,en;q=0.8',\n",
    "    'User-Agent': 'Mozilla/5.0 (Macintosh; Intel Mac OS X 10_10_1) AppleWebKit/537.36 (KHTML, like Gecko) Chrome/39.0.2171.95 Safari/537.36',\n",
    "    'Accept': 'text/html,application/xhtml+xml,application/xml;q=0.9,image/webp,*/*;q=0.8',\n",
    "    'Referer': 'http://www.wikipedia.org/',\n",
    "    'Connection': 'keep-alive',\n",
    "}\n",
    "\n",
    "dum = requests.get('https://transreta.com/api/public/thesis/send', headers=headers)\n",
    "\n",
    "#response.status_code\n",
    "\n",
    "r = dum.json() \n",
    "re = r\n",
    "print(r)\n",
    "print(re['a'])\n",
    "\n"
   ]
  },
  {
   "cell_type": "code",
   "execution_count": 11,
   "metadata": {
    "scrolled": false
   },
   "outputs": [
    {
     "name": "stderr",
     "output_type": "stream",
     "text": [
      "Init client with profile=test/fixtures/network.json\n",
      "create org with name=orderer.example.com\n",
      "create org with name=org1.example.com\n",
      "create org with name=org2.example.com\n",
      "create ca with name=ca-org1\n",
      "create ca with name=ca-org2\n",
      "Import orderers = dict_keys(['orderer.example.com'])\n",
      "Import peers = dict_keys(['peer0.org1.example.com', 'peer1.org1.example.com', 'peer0.org2.example.com', 'peer1.org2.example.com'])\n",
      "Init client with profile=test/fixtures/network.json\n",
      "create org with name=orderer.example.com\n",
      "create org with name=org1.example.com\n",
      "create org with name=org2.example.com\n"
     ]
    },
    {
     "name": "stdout",
     "output_type": "stream",
     "text": [
      "ajax:SOME_TOKEN\n"
     ]
    },
    {
     "name": "stderr",
     "output_type": "stream",
     "text": [
      "create ca with name=ca-org1\n",
      "create ca with name=ca-org2\n",
      "Import orderers = dict_keys(['orderer.example.com'])\n",
      "Import peers = dict_keys(['peer0.org1.example.com', 'peer1.org1.example.com', 'peer0.org2.example.com', 'peer1.org2.example.com'])\n",
      "New channel with name = businesschanneltoday\n",
      "create org with name=Org2MSP\n",
      "create org with name=Org1MSP\n",
      "create org with name=OrdererMSP\n",
      "Import orderers = dict_keys(['OrdererMSP'])\n",
      "Import peers = ['peer0.org1.example.com', 'peer1.org1.example.com']\n"
     ]
    },
    {
     "name": "stdout",
     "output_type": "stream",
     "text": [
      "973239\n",
      "48\n",
      "data submitted to network\n"
     ]
    },
    {
     "ename": "ChaincodeExecutionError",
     "evalue": "[version: 1\nresponse {\n  status: 200\n  payload: \"400\"\n}\npayload: \"\\n \\022J\\036R\\017\\267\\314\\r\\372\\200Y\\372\\314O\\375\\355;&\\363\\221z%D\\343\\372\\246\\316vD]\\366\\333\\022U\\n5\\022\\027\\n\\nexample_cc\\022\\t\\n\\007\\n\\001b\\022\\002\\010\\002\\022\\032\\n\\004lscc\\022\\022\\n\\020\\n\\nexample_cc\\022\\002\\010\\001\\032\\010\\010\\310\\001\\032\\003400\\\"\\022\\022\\nexample_cc\\032\\004v1.0\"\nendorsement {\n  endorser: \"\\n\\007Org1MSP\\022\\252\\006-----BEGIN CERTIFICATE-----\\nMIICKDCCAc+gAwIBAgIRAK5JdC2UorbI3GYUD7Z+I08wCgYIKoZIzj0EAwIwczEL\\nMAkGA1UEBhMCVVMxEzARBgNVBAgTCkNhbGlmb3JuaWExFjAUBgNVBAcTDVNhbiBG\\ncmFuY2lzY28xGTAXBgNVBAoTEG9yZzEuZXhhbXBsZS5jb20xHDAaBgNVBAMTE2Nh\\nLm9yZzEuZXhhbXBsZS5jb20wHhcNMTgxMDE5MDM0ODAwWhcNMjgxMDE2MDM0ODAw\\nWjBqMQswCQYDVQQGEwJVUzETMBEGA1UECBMKQ2FsaWZvcm5pYTEWMBQGA1UEBxMN\\nU2FuIEZyYW5jaXNjbzENMAsGA1UECxMEcGVlcjEfMB0GA1UEAxMWcGVlcjAub3Jn\\nMS5leGFtcGxlLmNvbTBZMBMGByqGSM49AgEGCCqGSM49AwEHA0IABF9ACNtWdD+C\\nj5hejCA9qvYEO1pbizsTZzpixLZO96Hv7Bhjke0I4m92+m1QB3j3atPbIqYR1vI8\\n5PsIwdaSnJejTTBLMA4GA1UdDwEB/wQEAwIHgDAMBgNVHRMBAf8EAjAAMCsGA1Ud\\nIwQkMCKAIGusYBVmN4/Nm4PGi5aZDUGttRUyZA3rDoT4POwdWJfSMAoGCCqGSM49\\nBAMCA0cAMEQCIDzfPy6MtrloRm00mm0dXJijLRtqu74TMCdiIz9/PsfHAiBXgK3U\\nKSPOmE1wKHkwr/SUyDPStCXkV5uO9ObjK9bbLA==\\n-----END CERTIFICATE-----\\n\"\n  signature: \"0D\\002 2\\355\\223\\333\\307\\312\\270l\\241\\372u\\362\\031\\234\\177\\360\\3452\\034\\226\\205\\\\\\253\\352\\362\\r\\324\\325\\342&\\036\\316\\002 R\\325<\\360\\342K2\\336r\\215?\\245@2\\216\\032\\361\\372\\201gw\\345~X\\254\\n\\000\\212\\201\\256\\365\\001\"\n}\n, version: 1\nresponse {\n  status: 200\n  payload: \"400\"\n}\npayload: \"\\n \\022J\\036R\\017\\267\\314\\r\\372\\200Y\\372\\314O\\375\\355;&\\363\\221z%D\\343\\372\\246\\316vD]\\366\\333\\022U\\n5\\022\\027\\n\\nexample_cc\\022\\t\\n\\007\\n\\001b\\022\\002\\010\\002\\022\\032\\n\\004lscc\\022\\022\\n\\020\\n\\nexample_cc\\022\\002\\010\\001\\032\\010\\010\\310\\001\\032\\003400\\\"\\022\\022\\nexample_cc\\032\\004v1.0\"\nendorsement {\n  endorser: \"\\n\\007Org1MSP\\022\\252\\006-----BEGIN CERTIFICATE-----\\nMIICKDCCAc6gAwIBAgIQfgcrJoyNEzrp26P2X4xXsjAKBggqhkjOPQQDAjBzMQsw\\nCQYDVQQGEwJVUzETMBEGA1UECBMKQ2FsaWZvcm5pYTEWMBQGA1UEBxMNU2FuIEZy\\nYW5jaXNjbzEZMBcGA1UEChMQb3JnMS5leGFtcGxlLmNvbTEcMBoGA1UEAxMTY2Eu\\nb3JnMS5leGFtcGxlLmNvbTAeFw0xODEwMTkwMzQ4MDBaFw0yODEwMTYwMzQ4MDBa\\nMGoxCzAJBgNVBAYTAlVTMRMwEQYDVQQIEwpDYWxpZm9ybmlhMRYwFAYDVQQHEw1T\\nYW4gRnJhbmNpc2NvMQ0wCwYDVQQLEwRwZWVyMR8wHQYDVQQDExZwZWVyMS5vcmcx\\nLmV4YW1wbGUuY29tMFkwEwYHKoZIzj0CAQYIKoZIzj0DAQcDQgAE84GN+v6xoJ5h\\n386nPmdF7t8woEDdAjfJ7xwHaAUEHZ1oxSzlLem8NA7d9iK0DET63sPPZpjNlPGb\\nAeX2bUdZHqNNMEswDgYDVR0PAQH/BAQDAgeAMAwGA1UdEwEB/wQCMAAwKwYDVR0j\\nBCQwIoAga6xgFWY3j82bg8aLlpkNQa21FTJkDesOhPg87B1Yl9IwCgYIKoZIzj0E\\nAwIDSAAwRQIhAJIhj3vLtHJEGcKs1Y18xXZ40ZFMHJN3gdhMHT3igpwdAiBd+iT2\\n4slpAXDRbtViULXfqndxYaaQrxSiZGCvWdN3ng==\\n-----END CERTIFICATE-----\\n\"\n  signature: \"0D\\002 1,`\\230\\314N3\\365\\336\\200\\370\\245j\\333\\027i\\230\\272\\240\\311\\303\\313\\006\\340\\306\\252\\'\\245\\006\\330\\357\\347\\002 \\023+\\206\\030\\237\\273\\343\\271\\352\\303n\\027a\\206_\\006O\\314\\305KN\\\\\\272\\263n\\3639\\265\\030\\036\\352\\032\"\n}\n, response {\n  status: 500\n  message: \"cannot retrieve package for chaincode example_cc/v1.0, error open /var/hyperledger/production/chaincodes/example_cc.v1.0: no such file or directory\"\n}\n, response {\n  status: 500\n  message: \"cannot retrieve package for chaincode example_cc/v1.0, error open /var/hyperledger/production/chaincodes/example_cc.v1.0: no such file or directory\"\n}\n]",
     "output_type": "error",
     "traceback": [
      "\u001b[0;31m---------------------------------------------------------------------------\u001b[0m",
      "\u001b[0;31mChaincodeExecutionError\u001b[0m                   Traceback (most recent call last)",
      "\u001b[0;32m<ipython-input-11-bb45e4564392>\u001b[0m in \u001b[0;36m<module>\u001b[0;34m\u001b[0m\n\u001b[1;32m     84\u001b[0m \u001b[0;34m\u001b[0m\u001b[0m\n\u001b[1;32m     85\u001b[0m     \u001b[0mresponse\u001b[0m \u001b[0;34m=\u001b[0m \u001b[0mloop\u001b[0m\u001b[0;34m.\u001b[0m\u001b[0mrun_until_complete\u001b[0m\u001b[0;34m(\u001b[0m\u001b[0mnew_contract\u001b[0m\u001b[0;34m.\u001b[0m\u001b[0msubmit_transaction\u001b[0m\u001b[0;34m(\u001b[0m\u001b[0;34m'businesschanneltoday'\u001b[0m\u001b[0;34m,\u001b[0m \u001b[0mlister\u001b[0m\u001b[0;34m,\u001b[0m \u001b[0morg1_admin\u001b[0m\u001b[0;34m)\u001b[0m\u001b[0;34m)\u001b[0m\u001b[0;34m\u001b[0m\u001b[0;34m\u001b[0m\u001b[0m\n\u001b[0;32m---> 86\u001b[0;31m     \u001b[0mresponse\u001b[0m  \u001b[0;34m=\u001b[0m \u001b[0mloop\u001b[0m\u001b[0;34m.\u001b[0m\u001b[0mrun_until_complete\u001b[0m\u001b[0;34m(\u001b[0m\u001b[0mnew_contract\u001b[0m\u001b[0;34m.\u001b[0m\u001b[0mevaluate_transaction\u001b[0m\u001b[0;34m(\u001b[0m\u001b[0;34m'businesschanneltoday'\u001b[0m\u001b[0;34m,\u001b[0m \u001b[0;34m[\u001b[0m\u001b[0;34m'b'\u001b[0m\u001b[0;34m]\u001b[0m\u001b[0;34m,\u001b[0m \u001b[0morg1_admin\u001b[0m\u001b[0;34m)\u001b[0m\u001b[0;34m)\u001b[0m\u001b[0;34m\u001b[0m\u001b[0;34m\u001b[0m\u001b[0m\n\u001b[0m\u001b[1;32m     87\u001b[0m \u001b[0;34m\u001b[0m\u001b[0m\n\u001b[1;32m     88\u001b[0m \u001b[0;32melse\u001b[0m\u001b[0;34m:\u001b[0m\u001b[0;34m\u001b[0m\u001b[0;34m\u001b[0m\u001b[0m\n",
      "\u001b[0;32m/opt/anaconda3/lib/python3.7/site-packages/nest_asyncio.py\u001b[0m in \u001b[0;36mrun_until_complete\u001b[0;34m(self, future)\u001b[0m\n\u001b[1;32m     87\u001b[0m                 raise RuntimeError(\n\u001b[1;32m     88\u001b[0m                     'Event loop stopped before Future completed.')\n\u001b[0;32m---> 89\u001b[0;31m             \u001b[0;32mreturn\u001b[0m \u001b[0mf\u001b[0m\u001b[0;34m.\u001b[0m\u001b[0mresult\u001b[0m\u001b[0;34m(\u001b[0m\u001b[0;34m)\u001b[0m\u001b[0;34m\u001b[0m\u001b[0;34m\u001b[0m\u001b[0m\n\u001b[0m\u001b[1;32m     90\u001b[0m \u001b[0;34m\u001b[0m\u001b[0m\n\u001b[1;32m     91\u001b[0m     \u001b[0;32mdef\u001b[0m \u001b[0m_run_once\u001b[0m\u001b[0;34m(\u001b[0m\u001b[0mself\u001b[0m\u001b[0;34m)\u001b[0m\u001b[0;34m:\u001b[0m\u001b[0;34m\u001b[0m\u001b[0;34m\u001b[0m\u001b[0m\n",
      "\u001b[0;32m/opt/anaconda3/lib/python3.7/asyncio/futures.py\u001b[0m in \u001b[0;36mresult\u001b[0;34m(self)\u001b[0m\n\u001b[1;32m    179\u001b[0m         \u001b[0mself\u001b[0m\u001b[0;34m.\u001b[0m\u001b[0m__log_traceback\u001b[0m \u001b[0;34m=\u001b[0m \u001b[0;32mFalse\u001b[0m\u001b[0;34m\u001b[0m\u001b[0;34m\u001b[0m\u001b[0m\n\u001b[1;32m    180\u001b[0m         \u001b[0;32mif\u001b[0m \u001b[0mself\u001b[0m\u001b[0;34m.\u001b[0m\u001b[0m_exception\u001b[0m \u001b[0;32mis\u001b[0m \u001b[0;32mnot\u001b[0m \u001b[0;32mNone\u001b[0m\u001b[0;34m:\u001b[0m\u001b[0;34m\u001b[0m\u001b[0;34m\u001b[0m\u001b[0m\n\u001b[0;32m--> 181\u001b[0;31m             \u001b[0;32mraise\u001b[0m \u001b[0mself\u001b[0m\u001b[0;34m.\u001b[0m\u001b[0m_exception\u001b[0m\u001b[0;34m\u001b[0m\u001b[0;34m\u001b[0m\u001b[0m\n\u001b[0m\u001b[1;32m    182\u001b[0m         \u001b[0;32mreturn\u001b[0m \u001b[0mself\u001b[0m\u001b[0;34m.\u001b[0m\u001b[0m_result\u001b[0m\u001b[0;34m\u001b[0m\u001b[0;34m\u001b[0m\u001b[0m\n\u001b[1;32m    183\u001b[0m \u001b[0;34m\u001b[0m\u001b[0m\n",
      "\u001b[0;32m/opt/anaconda3/lib/python3.7/asyncio/tasks.py\u001b[0m in \u001b[0;36m__step\u001b[0;34m(***failed resolving arguments***)\u001b[0m\n\u001b[1;32m    247\u001b[0m                 \u001b[0;31m# We use the `send` method directly, because coroutines\u001b[0m\u001b[0;34m\u001b[0m\u001b[0;34m\u001b[0m\u001b[0;34m\u001b[0m\u001b[0m\n\u001b[1;32m    248\u001b[0m                 \u001b[0;31m# don't have `__iter__` and `__next__` methods.\u001b[0m\u001b[0;34m\u001b[0m\u001b[0;34m\u001b[0m\u001b[0;34m\u001b[0m\u001b[0m\n\u001b[0;32m--> 249\u001b[0;31m                 \u001b[0mresult\u001b[0m \u001b[0;34m=\u001b[0m \u001b[0mcoro\u001b[0m\u001b[0;34m.\u001b[0m\u001b[0msend\u001b[0m\u001b[0;34m(\u001b[0m\u001b[0;32mNone\u001b[0m\u001b[0;34m)\u001b[0m\u001b[0;34m\u001b[0m\u001b[0;34m\u001b[0m\u001b[0m\n\u001b[0m\u001b[1;32m    250\u001b[0m             \u001b[0;32melse\u001b[0m\u001b[0;34m:\u001b[0m\u001b[0;34m\u001b[0m\u001b[0;34m\u001b[0m\u001b[0m\n\u001b[1;32m    251\u001b[0m                 \u001b[0mresult\u001b[0m \u001b[0;34m=\u001b[0m \u001b[0mcoro\u001b[0m\u001b[0;34m.\u001b[0m\u001b[0mthrow\u001b[0m\u001b[0;34m(\u001b[0m\u001b[0mexc\u001b[0m\u001b[0;34m)\u001b[0m\u001b[0;34m\u001b[0m\u001b[0;34m\u001b[0m\u001b[0m\n",
      "\u001b[0;32m~/Documents/hyper/fabric-sdk-py/hfc/fabric_network/contract.py\u001b[0m in \u001b[0;36mevaluate_transaction\u001b[0;34m(self, name, args, requestor)\u001b[0m\n\u001b[1;32m     69\u001b[0m                                              \u001b[0mpeers\u001b[0m\u001b[0;34m=\u001b[0m\u001b[0mpeers\u001b[0m\u001b[0;34m,\u001b[0m\u001b[0;34m\u001b[0m\u001b[0;34m\u001b[0m\u001b[0m\n\u001b[1;32m     70\u001b[0m                                              \u001b[0margs\u001b[0m\u001b[0;34m=\u001b[0m\u001b[0margs\u001b[0m\u001b[0;34m,\u001b[0m\u001b[0;34m\u001b[0m\u001b[0;34m\u001b[0m\u001b[0m\n\u001b[0;32m---> 71\u001b[0;31m                                              cc_name=self.cc_name)\n\u001b[0m\u001b[1;32m     72\u001b[0m         \u001b[0;32mreturn\u001b[0m \u001b[0mresponse\u001b[0m\u001b[0;34m\u001b[0m\u001b[0;34m\u001b[0m\u001b[0m\n",
      "\u001b[0;32m~/Documents/hyper/fabric-sdk-py/hfc/fabric/client.py\u001b[0m in \u001b[0;36mchaincode_query\u001b[0;34m(self, requestor, channel_name, peers, args, cc_name, cc_type, fcn, transient_map)\u001b[0m\n\u001b[1;32m   1331\u001b[0m         return await chaincode.query(requestor, channel_name, peers, args,\n\u001b[1;32m   1332\u001b[0m                                      \u001b[0mcc_type\u001b[0m\u001b[0;34m=\u001b[0m\u001b[0mcc_type\u001b[0m\u001b[0;34m,\u001b[0m\u001b[0;34m\u001b[0m\u001b[0;34m\u001b[0m\u001b[0m\n\u001b[0;32m-> 1333\u001b[0;31m                                      fcn=fcn, transient_map=transient_map)\n\u001b[0m\u001b[1;32m   1334\u001b[0m \u001b[0;34m\u001b[0m\u001b[0m\n\u001b[1;32m   1335\u001b[0m     async def query_channels(self, requestor, peers, transient_map=None,\n",
      "\u001b[0;32m~/Documents/hyper/fabric-sdk-py/hfc/fabric/chaincode.py\u001b[0m in \u001b[0;36mquery\u001b[0;34m(self, requestor, channel_name, peers, args, cc_type, fcn, transient_map)\u001b[0m\n\u001b[1;32m    319\u001b[0m \u001b[0;34m\u001b[0m\u001b[0m\n\u001b[1;32m    320\u001b[0m         \u001b[0;32mif\u001b[0m \u001b[0;32mnot\u001b[0m \u001b[0mall\u001b[0m\u001b[0;34m(\u001b[0m\u001b[0;34m[\u001b[0m\u001b[0mx\u001b[0m\u001b[0;34m.\u001b[0m\u001b[0mresponse\u001b[0m\u001b[0;34m.\u001b[0m\u001b[0mstatus\u001b[0m \u001b[0;34m==\u001b[0m \u001b[0mSUCCESS_STATUS\u001b[0m \u001b[0;32mfor\u001b[0m \u001b[0mx\u001b[0m \u001b[0;32min\u001b[0m \u001b[0mtran_req\u001b[0m\u001b[0;34m.\u001b[0m\u001b[0mresponses\u001b[0m\u001b[0;34m]\u001b[0m\u001b[0;34m)\u001b[0m\u001b[0;34m:\u001b[0m\u001b[0;34m\u001b[0m\u001b[0;34m\u001b[0m\u001b[0m\n\u001b[0;32m--> 321\u001b[0;31m             \u001b[0;32mraise\u001b[0m \u001b[0mChaincodeExecutionError\u001b[0m\u001b[0;34m(\u001b[0m\u001b[0mres\u001b[0m\u001b[0;34m)\u001b[0m\u001b[0;34m\u001b[0m\u001b[0;34m\u001b[0m\u001b[0m\n\u001b[0m\u001b[1;32m    322\u001b[0m \u001b[0;34m\u001b[0m\u001b[0m\n\u001b[1;32m    323\u001b[0m         \u001b[0;32mreturn\u001b[0m \u001b[0mres\u001b[0m\u001b[0;34m[\u001b[0m\u001b[0;36m0\u001b[0m\u001b[0;34m]\u001b[0m\u001b[0;34m.\u001b[0m\u001b[0mresponse\u001b[0m\u001b[0;34m.\u001b[0m\u001b[0mpayload\u001b[0m\u001b[0;34m.\u001b[0m\u001b[0mdecode\u001b[0m\u001b[0;34m(\u001b[0m\u001b[0;34m'utf-8'\u001b[0m\u001b[0;34m)\u001b[0m\u001b[0;34m\u001b[0m\u001b[0;34m\u001b[0m\u001b[0m\n",
      "\u001b[0;31mChaincodeExecutionError\u001b[0m: [version: 1\nresponse {\n  status: 200\n  payload: \"400\"\n}\npayload: \"\\n \\022J\\036R\\017\\267\\314\\r\\372\\200Y\\372\\314O\\375\\355;&\\363\\221z%D\\343\\372\\246\\316vD]\\366\\333\\022U\\n5\\022\\027\\n\\nexample_cc\\022\\t\\n\\007\\n\\001b\\022\\002\\010\\002\\022\\032\\n\\004lscc\\022\\022\\n\\020\\n\\nexample_cc\\022\\002\\010\\001\\032\\010\\010\\310\\001\\032\\003400\\\"\\022\\022\\nexample_cc\\032\\004v1.0\"\nendorsement {\n  endorser: \"\\n\\007Org1MSP\\022\\252\\006-----BEGIN CERTIFICATE-----\\nMIICKDCCAc+gAwIBAgIRAK5JdC2UorbI3GYUD7Z+I08wCgYIKoZIzj0EAwIwczEL\\nMAkGA1UEBhMCVVMxEzARBgNVBAgTCkNhbGlmb3JuaWExFjAUBgNVBAcTDVNhbiBG\\ncmFuY2lzY28xGTAXBgNVBAoTEG9yZzEuZXhhbXBsZS5jb20xHDAaBgNVBAMTE2Nh\\nLm9yZzEuZXhhbXBsZS5jb20wHhcNMTgxMDE5MDM0ODAwWhcNMjgxMDE2MDM0ODAw\\nWjBqMQswCQYDVQQGEwJVUzETMBEGA1UECBMKQ2FsaWZvcm5pYTEWMBQGA1UEBxMN\\nU2FuIEZyYW5jaXNjbzENMAsGA1UECxMEcGVlcjEfMB0GA1UEAxMWcGVlcjAub3Jn\\nMS5leGFtcGxlLmNvbTBZMBMGByqGSM49AgEGCCqGSM49AwEHA0IABF9ACNtWdD+C\\nj5hejCA9qvYEO1pbizsTZzpixLZO96Hv7Bhjke0I4m92+m1QB3j3atPbIqYR1vI8\\n5PsIwdaSnJejTTBLMA4GA1UdDwEB/wQEAwIHgDAMBgNVHRMBAf8EAjAAMCsGA1Ud\\nIwQkMCKAIGusYBVmN4/Nm4PGi5aZDUGttRUyZA3rDoT4POwdWJfSMAoGCCqGSM49\\nBAMCA0cAMEQCIDzfPy6MtrloRm00mm0dXJijLRtqu74TMCdiIz9/PsfHAiBXgK3U\\nKSPOmE1wKHkwr/SUyDPStCXkV5uO9ObjK9bbLA==\\n-----END CERTIFICATE-----\\n\"\n  signature: \"0D\\002 2\\355\\223\\333\\307\\312\\270l\\241\\372u\\362\\031\\234\\177\\360\\3452\\034\\226\\205\\\\\\253\\352\\362\\r\\324\\325\\342&\\036\\316\\002 R\\325<\\360\\342K2\\336r\\215?\\245@2\\216\\032\\361\\372\\201gw\\345~X\\254\\n\\000\\212\\201\\256\\365\\001\"\n}\n, version: 1\nresponse {\n  status: 200\n  payload: \"400\"\n}\npayload: \"\\n \\022J\\036R\\017\\267\\314\\r\\372\\200Y\\372\\314O\\375\\355;&\\363\\221z%D\\343\\372\\246\\316vD]\\366\\333\\022U\\n5\\022\\027\\n\\nexample_cc\\022\\t\\n\\007\\n\\001b\\022\\002\\010\\002\\022\\032\\n\\004lscc\\022\\022\\n\\020\\n\\nexample_cc\\022\\002\\010\\001\\032\\010\\010\\310\\001\\032\\003400\\\"\\022\\022\\nexample_cc\\032\\004v1.0\"\nendorsement {\n  endorser: \"\\n\\007Org1MSP\\022\\252\\006-----BEGIN CERTIFICATE-----\\nMIICKDCCAc6gAwIBAgIQfgcrJoyNEzrp26P2X4xXsjAKBggqhkjOPQQDAjBzMQsw\\nCQYDVQQGEwJVUzETMBEGA1UECBMKQ2FsaWZvcm5pYTEWMBQGA1UEBxMNU2FuIEZy\\nYW5jaXNjbzEZMBcGA1UEChMQb3JnMS5leGFtcGxlLmNvbTEcMBoGA1UEAxMTY2Eu\\nb3JnMS5leGFtcGxlLmNvbTAeFw0xODEwMTkwMzQ4MDBaFw0yODEwMTYwMzQ4MDBa\\nMGoxCzAJBgNVBAYTAlVTMRMwEQYDVQQIEwpDYWxpZm9ybmlhMRYwFAYDVQQHEw1T\\nYW4gRnJhbmNpc2NvMQ0wCwYDVQQLEwRwZWVyMR8wHQYDVQQDExZwZWVyMS5vcmcx\\nLmV4YW1wbGUuY29tMFkwEwYHKoZIzj0CAQYIKoZIzj0DAQcDQgAE84GN+v6xoJ5h\\n386nPmdF7t8woEDdAjfJ7xwHaAUEHZ1oxSzlLem8NA7d9iK0DET63sPPZpjNlPGb\\nAeX2bUdZHqNNMEswDgYDVR0PAQH/BAQDAgeAMAwGA1UdEwEB/wQCMAAwKwYDVR0j\\nBCQwIoAga6xgFWY3j82bg8aLlpkNQa21FTJkDesOhPg87B1Yl9IwCgYIKoZIzj0E\\nAwIDSAAwRQIhAJIhj3vLtHJEGcKs1Y18xXZ40ZFMHJN3gdhMHT3igpwdAiBd+iT2\\n4slpAXDRbtViULXfqndxYaaQrxSiZGCvWdN3ng==\\n-----END CERTIFICATE-----\\n\"\n  signature: \"0D\\002 1,`\\230\\314N3\\365\\336\\200\\370\\245j\\333\\027i\\230\\272\\240\\311\\303\\313\\006\\340\\306\\252\\'\\245\\006\\330\\357\\347\\002 \\023+\\206\\030\\237\\273\\343\\271\\352\\303n\\027a\\206_\\006O\\314\\305KN\\\\\\272\\263n\\3639\\265\\030\\036\\352\\032\"\n}\n, response {\n  status: 500\n  message: \"cannot retrieve package for chaincode example_cc/v1.0, error open /var/hyperledger/production/chaincodes/example_cc.v1.0: no such file or directory\"\n}\n, response {\n  status: 500\n  message: \"cannot retrieve package for chaincode example_cc/v1.0, error open /var/hyperledger/production/chaincodes/example_cc.v1.0: no such file or directory\"\n}\n]"
     ]
    }
   ],
   "source": [
    "import asyncio\n",
    "import sys\n",
    "from bs4 import BeautifulSoup\n",
    "from io import BytesIO\n",
    "from PIL import Image\n",
    "import urllib.request\n",
    "import nest_asyncio\n",
    "nest_asyncio.apply()\n",
    "from hfc.fabric_network.gateway import Gateway\n",
    "from hfc.fabric_network.network import Network\n",
    "from hfc.fabric_network.contract import Contract\n",
    "from hfc.fabric import Client\n",
    "import requests\n",
    "\n",
    "\n",
    "\n",
    "url = 'https://transreta.com/api/public/poster'\n",
    "\n",
    "html = '<input type=\"hidden\" name=\"csrfToken\" value=\"ajax:SOME_TOKEN\"/>'\n",
    "soup = BeautifulSoup(html)\n",
    "\n",
    "token = soup.find('input', {'name':'csrfToken'})['value']\n",
    "\n",
    "print (token)\n",
    "\n",
    "headers = {\n",
    "    'Accept-Encoding': 'gzip, deflate, sdch',\n",
    "    'Accept-Language': 'en-US,en;q=0.8',\n",
    "    'User-Agent': 'Mozilla/5.0 (Macintosh; Intel Mac OS X 10_10_1) AppleWebKit/537.36 (KHTML, like Gecko) Chrome/39.0.2171.95 Safari/537.36',\n",
    "    'Accept': 'text/html,application/xhtml+xml,application/xml;q=0.9,image/webp,*/*;q=0.8',\n",
    "    'Referer': 'http://www.wikipedia.org/',\n",
    "    'Connection': 'keep-alive',\n",
    "    'X-CSRF-TOKEN':token,\n",
    "    \n",
    "}\n",
    "\n",
    "\n",
    "loop = asyncio.get_event_loop()\n",
    "\n",
    "cli = Client(net_profile=\"test/fixtures/network.json\")\n",
    "org1_admin = cli.get_user(org_name='org1.example.com', name='Admin')\n",
    "\n",
    "new_gateway = Gateway() # Creates a new gateway instance\n",
    "options = {'wallet': ''}\n",
    "response = loop.run_until_complete(new_gateway.connect('test/fixtures/network.json', options))\n",
    "new_network = loop.run_until_complete(new_gateway.get_network('businesschanneltoday', org1_admin))\n",
    "new_contract = new_network.get_contract('example_cc')\n",
    "\n",
    "\n",
    "dum = requests.get('https://transreta.com/api/public/thesis/send', headers=headers)\n",
    "\n",
    "\n",
    "\n",
    "#response.status_code\n",
    "\n",
    "r = dum.json() \n",
    "\n",
    "#print(r)\n",
    "wole = r['a']\n",
    "wolex = urllib.request.urlopen(r['avatar'])\n",
    "user = r['user']\n",
    "avatar = r['avatar']\n",
    "rand2 = r['a']\n",
    "status = r['status']\n",
    "myobj = {'status': status,'rand2': rand2,'avatar': avatar,'user': user}\n",
    "\n",
    "\n",
    "\n",
    "print(wolex.length)\n",
    "\n",
    "print (wole)\n",
    "\n",
    "\n",
    "\n",
    "if wolex.length == 973239:\n",
    "    lister = ['a', 'b']\n",
    "\n",
    "    fg = str(wole)\n",
    "    lister.append(fg)\n",
    "    print(\"data submitted to network\")\n",
    "   \n",
    "    x = requests.post(url, headers={\"User-Agent\": \"XY\"}, json = myobj)\n",
    "    #print(x.text)\n",
    "    \n",
    "    response = loop.run_until_complete(new_contract.submit_transaction('businesschanneltoday', lister, org1_admin))\n",
    "    response  = loop.run_until_complete(new_contract.evaluate_transaction('businesschanneltoday', ['b'], org1_admin))\n",
    "    \n",
    "else:\n",
    "    print(\"Data does not meet up to standard and cannot be permitted into network\")\n"
   ]
  },
  {
   "cell_type": "code",
   "execution_count": null,
   "metadata": {},
   "outputs": [],
   "source": []
  },
  {
   "cell_type": "code",
   "execution_count": 13,
   "metadata": {
    "scrolled": true
   },
   "outputs": [
    {
     "name": "stderr",
     "output_type": "stream",
     "text": [
      "Init client with profile=test/fixtures/network.json\n",
      "create org with name=orderer.example.com\n",
      "create org with name=org1.example.com\n",
      "create org with name=org2.example.com\n",
      "create ca with name=ca-org1\n",
      "create ca with name=ca-org2\n",
      "Import orderers = dict_keys(['orderer.example.com'])\n",
      "Import peers = dict_keys(['peer0.org1.example.com', 'peer1.org1.example.com', 'peer0.org2.example.com', 'peer1.org2.example.com'])\n"
     ]
    }
   ],
   "source": [
    "import asyncio\n",
    "from hfc.fabric import Client\n",
    "\n",
    "loop = asyncio.get_event_loop()\n",
    "cli = Client(net_profile=\"test/fixtures/network.json\")\n",
    "org1_admin = cli.get_user('org1.example.com', 'Admin')\n",
    "\n",
    "# Query Peer installed chaincodes, make sure the chaincode is installed\n",
    "response = loop.run_until_complete(cli.query_installed_chaincodes(\n",
    "               requestor=org1_admin,\n",
    "               peers=['peer0.org1.example.com'],\n",
    "               decode=True\n",
    "               ))"
   ]
  },
  {
   "cell_type": "code",
   "execution_count": 9,
   "metadata": {},
   "outputs": [
    {
     "name": "stderr",
     "output_type": "stream",
     "text": [
      "channel id businesschanneltoday\n"
     ]
    }
   ],
   "source": [
    "\n",
    "# Query Peer Joined channel\n",
    "response = loop.run_until_complete(cli.query_channels(\n",
    "               requestor=org1_admin,\n",
    "               peers=['peer0.org1.example.com'],\n",
    "               decode=True\n",
    "               ))"
   ]
  },
  {
   "cell_type": "code",
   "execution_count": 14,
   "metadata": {},
   "outputs": [
    {
     "name": "stderr",
     "output_type": "stream",
     "text": [
      "Init client with profile=test/fixtures/network.json\n",
      "create org with name=orderer.example.com\n",
      "create org with name=org1.example.com\n",
      "create org with name=org2.example.com\n",
      "create ca with name=ca-org1\n",
      "create ca with name=ca-org2\n",
      "Import orderers = dict_keys(['orderer.example.com'])\n",
      "Import peers = dict_keys(['peer0.org1.example.com', 'peer1.org1.example.com', 'peer0.org2.example.com', 'peer1.org2.example.com'])\n"
     ]
    },
    {
     "ename": "AttributeError",
     "evalue": "'NoneType' object has no attribute 'query_info'",
     "output_type": "error",
     "traceback": [
      "\u001b[0;31m---------------------------------------------------------------------------\u001b[0m",
      "\u001b[0;31mAttributeError\u001b[0m                            Traceback (most recent call last)",
      "\u001b[0;32m<ipython-input-14-dc301c68d805>\u001b[0m in \u001b[0;36m<module>\u001b[0;34m\u001b[0m\n\u001b[1;32m     11\u001b[0m                \u001b[0mchannel_name\u001b[0m\u001b[0;34m=\u001b[0m\u001b[0;34m'businesschanneltoday'\u001b[0m\u001b[0;34m,\u001b[0m\u001b[0;34m\u001b[0m\u001b[0;34m\u001b[0m\u001b[0m\n\u001b[1;32m     12\u001b[0m                \u001b[0mpeers\u001b[0m\u001b[0;34m=\u001b[0m\u001b[0;34m[\u001b[0m\u001b[0;34m'peer0.org1.example.com'\u001b[0m\u001b[0;34m]\u001b[0m\u001b[0;34m,\u001b[0m\u001b[0;34m\u001b[0m\u001b[0;34m\u001b[0m\u001b[0m\n\u001b[0;32m---> 13\u001b[0;31m                \u001b[0mdecode\u001b[0m\u001b[0;34m=\u001b[0m\u001b[0;32mFalse\u001b[0m\u001b[0;34m\u001b[0m\u001b[0;34m\u001b[0m\u001b[0m\n\u001b[0m\u001b[1;32m     14\u001b[0m                ))\n",
      "\u001b[0;32m/opt/anaconda3/lib/python3.7/site-packages/nest_asyncio.py\u001b[0m in \u001b[0;36mrun_until_complete\u001b[0;34m(self, future)\u001b[0m\n\u001b[1;32m     87\u001b[0m                 raise RuntimeError(\n\u001b[1;32m     88\u001b[0m                     'Event loop stopped before Future completed.')\n\u001b[0;32m---> 89\u001b[0;31m             \u001b[0;32mreturn\u001b[0m \u001b[0mf\u001b[0m\u001b[0;34m.\u001b[0m\u001b[0mresult\u001b[0m\u001b[0;34m(\u001b[0m\u001b[0;34m)\u001b[0m\u001b[0;34m\u001b[0m\u001b[0;34m\u001b[0m\u001b[0m\n\u001b[0m\u001b[1;32m     90\u001b[0m \u001b[0;34m\u001b[0m\u001b[0m\n\u001b[1;32m     91\u001b[0m     \u001b[0;32mdef\u001b[0m \u001b[0m_run_once\u001b[0m\u001b[0;34m(\u001b[0m\u001b[0mself\u001b[0m\u001b[0;34m)\u001b[0m\u001b[0;34m:\u001b[0m\u001b[0;34m\u001b[0m\u001b[0;34m\u001b[0m\u001b[0m\n",
      "\u001b[0;32m/opt/anaconda3/lib/python3.7/asyncio/futures.py\u001b[0m in \u001b[0;36mresult\u001b[0;34m(self)\u001b[0m\n\u001b[1;32m    179\u001b[0m         \u001b[0mself\u001b[0m\u001b[0;34m.\u001b[0m\u001b[0m__log_traceback\u001b[0m \u001b[0;34m=\u001b[0m \u001b[0;32mFalse\u001b[0m\u001b[0;34m\u001b[0m\u001b[0;34m\u001b[0m\u001b[0m\n\u001b[1;32m    180\u001b[0m         \u001b[0;32mif\u001b[0m \u001b[0mself\u001b[0m\u001b[0;34m.\u001b[0m\u001b[0m_exception\u001b[0m \u001b[0;32mis\u001b[0m \u001b[0;32mnot\u001b[0m \u001b[0;32mNone\u001b[0m\u001b[0;34m:\u001b[0m\u001b[0;34m\u001b[0m\u001b[0;34m\u001b[0m\u001b[0m\n\u001b[0;32m--> 181\u001b[0;31m             \u001b[0;32mraise\u001b[0m \u001b[0mself\u001b[0m\u001b[0;34m.\u001b[0m\u001b[0m_exception\u001b[0m\u001b[0;34m\u001b[0m\u001b[0;34m\u001b[0m\u001b[0m\n\u001b[0m\u001b[1;32m    182\u001b[0m         \u001b[0;32mreturn\u001b[0m \u001b[0mself\u001b[0m\u001b[0;34m.\u001b[0m\u001b[0m_result\u001b[0m\u001b[0;34m\u001b[0m\u001b[0;34m\u001b[0m\u001b[0m\n\u001b[1;32m    183\u001b[0m \u001b[0;34m\u001b[0m\u001b[0m\n",
      "\u001b[0;32m/opt/anaconda3/lib/python3.7/asyncio/tasks.py\u001b[0m in \u001b[0;36m__step\u001b[0;34m(***failed resolving arguments***)\u001b[0m\n\u001b[1;32m    247\u001b[0m                 \u001b[0;31m# We use the `send` method directly, because coroutines\u001b[0m\u001b[0;34m\u001b[0m\u001b[0;34m\u001b[0m\u001b[0;34m\u001b[0m\u001b[0m\n\u001b[1;32m    248\u001b[0m                 \u001b[0;31m# don't have `__iter__` and `__next__` methods.\u001b[0m\u001b[0;34m\u001b[0m\u001b[0;34m\u001b[0m\u001b[0;34m\u001b[0m\u001b[0m\n\u001b[0;32m--> 249\u001b[0;31m                 \u001b[0mresult\u001b[0m \u001b[0;34m=\u001b[0m \u001b[0mcoro\u001b[0m\u001b[0;34m.\u001b[0m\u001b[0msend\u001b[0m\u001b[0;34m(\u001b[0m\u001b[0;32mNone\u001b[0m\u001b[0;34m)\u001b[0m\u001b[0;34m\u001b[0m\u001b[0;34m\u001b[0m\u001b[0m\n\u001b[0m\u001b[1;32m    250\u001b[0m             \u001b[0;32melse\u001b[0m\u001b[0;34m:\u001b[0m\u001b[0;34m\u001b[0m\u001b[0;34m\u001b[0m\u001b[0m\n\u001b[1;32m    251\u001b[0m                 \u001b[0mresult\u001b[0m \u001b[0;34m=\u001b[0m \u001b[0mcoro\u001b[0m\u001b[0;34m.\u001b[0m\u001b[0mthrow\u001b[0m\u001b[0;34m(\u001b[0m\u001b[0mexc\u001b[0m\u001b[0;34m)\u001b[0m\u001b[0;34m\u001b[0m\u001b[0;34m\u001b[0m\u001b[0m\n",
      "\u001b[0;32m~/Documents/hyper/fabric-sdk-py/hfc/fabric/client.py\u001b[0m in \u001b[0;36mquery_info\u001b[0;34m(self, requestor, channel_name, peers, decode)\u001b[0m\n\u001b[1;32m   1403\u001b[0m                                        TXProposalRequest())\n\u001b[1;32m   1404\u001b[0m \u001b[0;34m\u001b[0m\u001b[0m\n\u001b[0;32m-> 1405\u001b[0;31m         responses, proposal, header = channel.query_info(tx_context,\n\u001b[0m\u001b[1;32m   1406\u001b[0m                                                          target_peers)\n\u001b[1;32m   1407\u001b[0m \u001b[0;34m\u001b[0m\u001b[0m\n",
      "\u001b[0;31mAttributeError\u001b[0m: 'NoneType' object has no attribute 'query_info'"
     ]
    }
   ],
   "source": [
    "import asyncio\n",
    "from hfc.fabric import Client\n",
    "\n",
    "loop = asyncio.get_event_loop()\n",
    "cli = Client(net_profile=\"test/fixtures/network.json\")\n",
    "org1_admin = cli.get_user('org1.example.com', 'Admin')\n",
    "\n",
    "# first get the hash by calling 'query_info'\n",
    "response = loop.run_until_complete(cli.query_info(\n",
    "               requestor=org1_admin,\n",
    "               channel_name='businesschanneltoday',\n",
    "               peers=['peer0.org1.example.com'],\n",
    "               decode=False\n",
    "               ))"
   ]
  },
  {
   "cell_type": "code",
   "execution_count": null,
   "metadata": {},
   "outputs": [],
   "source": []
  }
 ],
 "metadata": {
  "kernelspec": {
   "display_name": "Python 3",
   "language": "python",
   "name": "python3"
  },
  "language_info": {
   "codemirror_mode": {
    "name": "ipython",
    "version": 3
   },
   "file_extension": ".py",
   "mimetype": "text/x-python",
   "name": "python",
   "nbconvert_exporter": "python",
   "pygments_lexer": "ipython3",
   "version": "3.7.6"
  }
 },
 "nbformat": 4,
 "nbformat_minor": 4
}
