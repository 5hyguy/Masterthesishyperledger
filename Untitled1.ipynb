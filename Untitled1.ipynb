{
 "cells": [
  {
   "cell_type": "code",
   "execution_count": 1,
   "metadata": {
    "scrolled": true
   },
   "outputs": [
    {
     "name": "stdout",
     "output_type": "stream",
     "text": [
      "758091\n",
      "973239\n"
     ]
    }
   ],
   "source": [
    "import urllib.request\n",
    "#importing the module\n",
    "\n",
    "file = urllib.request.urlopen(\"https://wolexx.com/wp-content/uploads/2020/08/50681627_10158166541058206_405369115159560192_n.png\")\n",
    "#just a dummy file\n",
    "\n",
    "file2 = urllib.request.urlopen(\"https://wolexx.com/wp-content/uploads/2020/08/IMG_20200830_161555_763-scaled.jpg\")\n",
    "\n",
    "print(file.length)\n",
    "print(file2.length)\n",
    "#fetching its length"
   ]
  },
  {
   "cell_type": "code",
   "execution_count": 15,
   "metadata": {},
   "outputs": [
    {
     "name": "stdout",
     "output_type": "stream",
     "text": [
      "758091\n",
      "does not meet up to standard\n"
     ]
    }
   ],
   "source": [
    "x = 758091\n",
    "xd = format(x)\n",
    "print (x)\n",
    "if file.length == 758091:\n",
    "    print(\"data submitted to network\")\n",
    "else:\n",
    "    print(\"does not meet up to standard\")"
   ]
  },
  {
   "cell_type": "code",
   "execution_count": null,
   "metadata": {},
   "outputs": [],
   "source": []
  },
  {
   "cell_type": "code",
   "execution_count": null,
   "metadata": {},
   "outputs": [],
   "source": []
  }
 ],
 "metadata": {
  "kernelspec": {
   "display_name": "Python 3",
   "language": "python",
   "name": "python3"
  },
  "language_info": {
   "codemirror_mode": {
    "name": "ipython",
    "version": 3
   },
   "file_extension": ".py",
   "mimetype": "text/x-python",
   "name": "python",
   "nbconvert_exporter": "python",
   "pygments_lexer": "ipython3",
   "version": "3.7.6"
  }
 },
 "nbformat": 4,
 "nbformat_minor": 4
}
